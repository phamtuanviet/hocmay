{
 "cells": [
  {
   "cell_type": "markdown",
   "id": "45edd3f9",
   "metadata": {
    "papermill": {
     "duration": 0.004726,
     "end_time": "2025-08-09T00:48:03.540256",
     "exception": false,
     "start_time": "2025-08-09T00:48:03.535530",
     "status": "completed"
    },
    "tags": []
   },
   "source": [
    "# Library"
   ]
  },
  {
   "cell_type": "code",
   "execution_count": 1,
   "id": "30fe04c3",
   "metadata": {
    "_cell_guid": "b1076dfc-b9ad-4769-8c92-a6c4dae69d19",
    "_uuid": "8f2839f25d086af736a60e9eeb907d3b93b6e0e5",
    "execution": {
     "iopub.execute_input": "2025-08-09T00:48:03.549525Z",
     "iopub.status.busy": "2025-08-09T00:48:03.549115Z",
     "iopub.status.idle": "2025-08-09T00:48:14.789280Z",
     "shell.execute_reply": "2025-08-09T00:48:14.788305Z"
    },
    "papermill": {
     "duration": 11.24684,
     "end_time": "2025-08-09T00:48:14.791141",
     "exception": false,
     "start_time": "2025-08-09T00:48:03.544301",
     "status": "completed"
    },
    "tags": []
   },
   "outputs": [],
   "source": [
    "import pandas as pd\n",
    "import matplotlib.pyplot as plt\n",
    "import numpy as np\n",
    "import joblib\n",
    "from functools import partial\n",
    "import os\n",
    "from concurrent.futures import ThreadPoolExecutor\n",
    "from joblib import Parallel, delayed\n",
    "from tqdm import tqdm\n",
    "import itertools\n",
    "\n",
    "from concurrent.futures import ProcessPoolExecutor\n",
    "from astropy.stats import sigma_clip\n",
    "\n",
    "from scipy.signal import savgol_filter\n",
    "from scipy.optimize import minimize\n",
    "from scipy import optimize\n",
    "\n",
    "from sklearn.model_selection import cross_val_predict, train_test_split\n",
    "from sklearn.multioutput import MultiOutputRegressor\n",
    "from sklearn.linear_model import LinearRegression, Ridge\n",
    "from sklearn.preprocessing import StandardScaler\n",
    "from sklearn.metrics import r2_score, mean_squared_error, mean_absolute_error\n",
    "from sklearn.linear_model import LinearRegression\n",
    "from sklearn.linear_model import Ridge\n",
    "from sklearn.linear_model import Lasso\n",
    "\n",
    "\n",
    "\n",
    "from sklearn.svm import SVR\n",
    "\n",
    "from xgboost import XGBRegressor\n",
    "\n",
    "import torch\n",
    "import torch.nn as nn"
   ]
  },
  {
   "cell_type": "markdown",
   "id": "1d043917",
   "metadata": {
    "papermill": {
     "duration": 0.003523,
     "end_time": "2025-08-09T00:48:14.798828",
     "exception": false,
     "start_time": "2025-08-09T00:48:14.795305",
     "status": "completed"
    },
    "tags": []
   },
   "source": [
    "# Global Variable"
   ]
  },
  {
   "cell_type": "code",
   "execution_count": 2,
   "id": "612aae4a",
   "metadata": {
    "execution": {
     "iopub.execute_input": "2025-08-09T00:48:14.807990Z",
     "iopub.status.busy": "2025-08-09T00:48:14.807532Z",
     "iopub.status.idle": "2025-08-09T00:48:14.815292Z",
     "shell.execute_reply": "2025-08-09T00:48:14.814175Z"
    },
    "papermill": {
     "duration": 0.014113,
     "end_time": "2025-08-09T00:48:14.816823",
     "exception": false,
     "start_time": "2025-08-09T00:48:14.802710",
     "status": "completed"
    },
    "tags": []
   },
   "outputs": [],
   "source": [
    "class GlobalVariable:\n",
    "    def __init__(self, base_path='/kaggle/input/ariel-data-challenge-2025'):\n",
    "        self.base_path = base_path\n",
    "        self.adc_info = pd.read_csv(f'{base_path}/adc_info.csv')\n",
    "        self.axis_info = pd.read_parquet(f'{base_path}/axis_info.parquet')\n",
    "        self.train_labels = pd.read_csv(f'{base_path}/train.csv', index_col='planet_id')\n",
    "        self.train_info = pd.read_csv(f'{base_path}/train_star_info.csv', index_col='planet_id')\n",
    "        self.test_info = pd.read_csv(f'{base_path}/test_star_info.csv', index_col='planet_id')\n",
    "        self.sample_test = pd.read_csv(f'{base_path}/sample_submission.csv', index_col='planet_id')\n",
    "        self.dataset = 'train'\n",
    "        self.cut_inf ,self.cut_sup = 39, 321\n",
    "        self.nums_parallel = 4\n",
    "\n",
    "        gainAIRS = self.adc_info['AIRS-CH0_adc_gain'].iloc[0]\n",
    "        gainFGS1 = self.adc_info['FGS1_adc_gain'].iloc[0]\n",
    "        offsetAIRS = self.adc_info['AIRS-CH0_adc_offset'].iloc[0]\n",
    "        offsetFGS1 = self.adc_info['FGS1_adc_offset'].iloc[0]\n",
    "        self.adc = {\n",
    "            'AIRS-CH0': {'gain': gainAIRS, 'offset': offsetAIRS},\n",
    "            'FGS1': {'gain': gainFGS1, 'offset': offsetFGS1}\n",
    "        }"
   ]
  },
  {
   "cell_type": "markdown",
   "id": "52ceb61f",
   "metadata": {
    "papermill": {
     "duration": 0.003376,
     "end_time": "2025-08-09T00:48:14.824179",
     "exception": false,
     "start_time": "2025-08-09T00:48:14.820803",
     "status": "completed"
    },
    "tags": []
   },
   "source": [
    "# Calibrating and binning data"
   ]
  },
  {
   "cell_type": "code",
   "execution_count": 3,
   "id": "568c6707",
   "metadata": {
    "execution": {
     "iopub.execute_input": "2025-08-09T00:48:14.833175Z",
     "iopub.status.busy": "2025-08-09T00:48:14.832738Z",
     "iopub.status.idle": "2025-08-09T00:48:14.850931Z",
     "shell.execute_reply": "2025-08-09T00:48:14.849955Z"
    },
    "papermill": {
     "duration": 0.025002,
     "end_time": "2025-08-09T00:48:14.852777",
     "exception": false,
     "start_time": "2025-08-09T00:48:14.827775",
     "status": "completed"
    },
    "tags": []
   },
   "outputs": [],
   "source": [
    "# Tham khảo từ https://www.kaggle.com/code/gordonyip/calibrating-and-binning-ariel-data\n",
    "class DataPreprocessing:\n",
    "    def __init__(self, config):\n",
    "        self.config = config\n",
    "\n",
    "    # Sửa sai tuyến tính data\n",
    "    def apply_linear_corr(self, linear_corr,clean_signal):\n",
    "        linear_corr = np.flip(linear_corr, axis=0)\n",
    "        for x, y in itertools.product(\n",
    "                    range(clean_signal.shape[1]), range(clean_signal.shape[2])\n",
    "                ):\n",
    "            poli = np.poly1d(linear_corr[:, x, y])\n",
    "            clean_signal[:, x, y] = poli(clean_signal[:, x, y])\n",
    "        return clean_signal\n",
    "\n",
    "    # trừ dark current\n",
    "    def clean_dark(self, signal, dark, dt):\n",
    "        dark = np.tile(dark, (signal.shape[0], 1, 1))\n",
    "        signal -= dark* dt[:, np.newaxis, np.newaxis]\n",
    "        return signal\n",
    "\n",
    "    # tiền xử lý dữ liệu đầu vào và binning\n",
    "    def preproc(self, dataset, sensor, binning = 15):\n",
    "        \n",
    "        sensor_sizes_dict = {\"AIRS-CH0\":[[11250, 32, 356], [1, 32, 356]], \"FGS1\":[[135000, 32, 32], [1, 32, 32]]}\n",
    "        binned_dict = {\"AIRS-CH0\":[11250 // binning // 2, 356], \"FGS1\":[135000 // binning // 2]}\n",
    "        linear_corr_dict = {\"AIRS-CH0\":(6, 32, 356), \"FGS1\":(6, 32, 32)}\n",
    "        planet_ids = self.config.train_labels.index\n",
    "\n",
    "        # phân biệt dang là dữ liệu train hay test\n",
    "        if dataset == \"test\":\n",
    "            sample_sub_path = f\"{self.config.base_path}/sample_submission.csv\"\n",
    "            planet_ids = pd.read_csv(sample_sub_path)[\"planet_id\"].tolist()\n",
    "        \n",
    "        feats = []\n",
    "\n",
    "        # đọc qua từng hành tinh các thông số của nó và xử lý\n",
    "        for i, planet_id in tqdm(list(enumerate(planet_ids))):\n",
    "            signal = pd.read_parquet(f'{self.config.base_path}/{dataset}/{planet_id}/{sensor}_signal_0.parquet').to_numpy()\n",
    "            dark_frame = pd.read_parquet(f'{self.config.base_path}/{dataset}/' + str(planet_id) + '/' + sensor + '_calibration_0/dark.parquet', engine='pyarrow').to_numpy()\n",
    "            dead_frame = pd.read_parquet(f'{self.config.base_path}/{dataset}/' + str(planet_id) + '/' + sensor + '_calibration_0/dead.parquet', engine='pyarrow').to_numpy()\n",
    "            flat_frame = pd.read_parquet(f'{self.config.base_path}/{dataset}/' + str(planet_id) + '/' + sensor + '_calibration_0/flat.parquet', engine='pyarrow').to_numpy()\n",
    "            linear_corr = pd.read_parquet(f'{self.config.base_path}/{dataset}/' + str(planet_id) + '/' + sensor + '_calibration_0/linear_corr.parquet').values.astype(np.float64).reshape(linear_corr_dict[sensor])\n",
    "\n",
    "            # chuyển đổi tín hiệu về pixcel voltage\n",
    "            signal = signal.reshape(sensor_sizes_dict[sensor][0]) \n",
    "            gain = self.config.adc[sensor]['gain']\n",
    "            offset = self.config.adc[sensor]['offset']\n",
    "            signal = signal / gain + offset\n",
    "\n",
    "            # phát hiển pixcel hot\n",
    "            hot = sigma_clip(\n",
    "                dark_frame, sigma=5, maxiters=5\n",
    "            ).mask\n",
    "\n",
    "            # xử lý với các loại tín hiệu\n",
    "            if sensor != \"FGS1\":\n",
    "                dt = np.ones(len(signal))*0.1 \n",
    "                dt[1::2] += 4.5\n",
    "            else:\n",
    "                dt = np.ones(len(signal))*0.1\n",
    "                dt[1::2] += 0.1\n",
    "\n",
    "\n",
    "            # gán 0 cho những phần từ nhỏ hơn 0\n",
    "            signal = signal.clip(0)\n",
    "            linear_corr_signal = self.apply_linear_corr(linear_corr, signal)\n",
    "            signal = self.clean_dark(linear_corr_signal, dark_frame, dt)\n",
    "\n",
    "            # chia dư liệu cho flat (độ lệch giữa các pixcel gốc)\n",
    "            flat = flat_frame.reshape(sensor_sizes_dict[sensor][1])\n",
    "            flat[dead_frame.reshape(sensor_sizes_dict[sensor][1])] = np.nan\n",
    "            flat[hot.reshape(sensor_sizes_dict[sensor][1])] = np.nan\n",
    "            signal = signal / flat\n",
    "            \n",
    "            # cắt ở trung tâm thu gọn dữ liệu lấy những dữ liệu chuẩn nhất phù hợp với bước sóng thứ nhất test\n",
    "            if sensor == \"FGS1\":\n",
    "                signal = signal[:,10:22,10:22] \n",
    "                signal = signal.reshape(sensor_sizes_dict[sensor][0][0],144) \n",
    "\n",
    "            # cắt ở trung tâm thu gọn dữ liệu lấy những dữ liệu chuẩn nhất\n",
    "            if sensor != \"FGS1\":\n",
    "                signal = signal[:,10:22,:]\n",
    "\n",
    "            # trừ 2 pixcel chẵn lẻ\n",
    "            mean_signal = np.nanmean(signal, axis=1) \n",
    "            cds_signal = (mean_signal[1::2] - mean_signal[0::2])\n",
    "\n",
    "            # binning thu gọn chắt lọc dữ liệu\n",
    "            binned = np.zeros((binned_dict[sensor]))\n",
    "            for j in range(cds_signal.shape[0] // binning):\n",
    "                binned[j] = cds_signal[j*binning:j*binning+binning].mean(axis=0) \n",
    "                       \n",
    "            if sensor == \"FGS1\":\n",
    "                binned = binned.reshape((binned.shape[0],1))\n",
    "            \n",
    "            feats.append(binned)\n",
    "            \n",
    "        return np.stack(feats)\n"
   ]
  },
  {
   "cell_type": "markdown",
   "id": "27817bba",
   "metadata": {
    "papermill": {
     "duration": 0.003452,
     "end_time": "2025-08-09T00:48:14.860249",
     "exception": false,
     "start_time": "2025-08-09T00:48:14.856797",
     "status": "completed"
    },
    "tags": []
   },
   "source": [
    "# Data Processing"
   ]
  },
  {
   "cell_type": "code",
   "execution_count": null,
   "id": "a2e3bca2",
   "metadata": {
    "execution": {
     "iopub.execute_input": "2025-08-09T00:48:14.870022Z",
     "iopub.status.busy": "2025-08-09T00:48:14.869649Z",
     "iopub.status.idle": "2025-08-09T00:48:14.893482Z",
     "shell.execute_reply": "2025-08-09T00:48:14.892631Z"
    },
    "papermill": {
     "duration": 0.030935,
     "end_time": "2025-08-09T00:48:14.894875",
     "exception": false,
     "start_time": "2025-08-09T00:48:14.863940",
     "status": "completed"
    },
    "tags": []
   },
   "outputs": [],
   "source": [
    "# xử lý dữ liệu\n",
    "# Tham khảo từ https://www.kaggle.com/code/vitalykudelya/neurips-non-ml-transit-curve-fitting?scriptVersionId=250312271\n",
    "# và từ https://www.kaggle.com/code/jiazhuang/adc2024-fix-window-weights-finetuning/notebook\n",
    "class DataProcessing:\n",
    "    def __init__ (self, config):\n",
    "        self.config = config\n",
    "        self.data_pre = DataPreprocessing(config)\n",
    "\n",
    "        # đọc lấy các file nếu đã xử lý trước đó\n",
    "        if os.path.exists('/kaggle/input/data03/f_raw_train.npy'):\n",
    "            self.f_raw_train = np.load('/kaggle/input/data03/f_raw_train.npy')\n",
    "            print(\"Loading f done\")\n",
    "        else :\n",
    "            self.f_raw_train = self.data_pre.preproc(f'{self.config.dataset}',\"FGS1\", 30*12)\n",
    "            self.f_raw_train.shape\n",
    "            np.save('/kaggle/working/f_raw_train.npy', self.f_raw_train)\n",
    "        \n",
    "        if os.path.exists('/kaggle/input/data03/a_raw_train.npy'):\n",
    "            self.a_raw_train = np.load('/kaggle/input/data03/a_raw_train.npy')\n",
    "            print(\"Loading a done\")\n",
    "        else :\n",
    "            self.a_raw_train = self.data_pre.preproc(f'{self.config.dataset}',\"AIRS-CH0\", 30)\n",
    "            self.a_raw_train.shape\n",
    "            np.save('/kaggle/working/a_raw_train.npy', self.a_raw_train)\n",
    "\n",
    "        # đọc dữ liệu cần test\n",
    "        self.f_raw_test = self.data_pre.preproc('test',\"FGS1\", 30*12)\n",
    "        self.a_raw_test = self.data_pre.preproc('test',\"AIRS-CH0\", 30)\n",
    "\n",
    "    # làm mượt tín hiệu AIRS và cắt lấy những bước sóng ở giữa \n",
    "    # mượt bằng cách lấy chung bình 37 bước trái phải\n",
    "    def smooth_airs(self,a_raw_data, window = 37):\n",
    "        wv_smooth_a_raw = []\n",
    "        for i in range(self.config.cut_inf, self.config.cut_sup):\n",
    "           wv_smooth_a_raw.append(a_raw_data[:, :, max(i-window, 0):(i+window)].mean(axis=-1))\n",
    "    \n",
    "        wv_smooth_a_raw = np.stack(wv_smooth_a_raw, axis=-1)\n",
    "        wv_smooth_a_raw.shape\n",
    "\n",
    "        return wv_smooth_a_raw\n",
    "\n",
    "    # function tìm ra điểm transit của tín hiệu gốc bằng cách tính đạo hàm của các điểm trên signal\n",
    "    def phase_detector(self, signal):\n",
    "        \n",
    "        MIN = np.argmin(signal[30:140])+30\n",
    "        signal1 = signal[:MIN ]\n",
    "        signal2 = signal[MIN :]\n",
    "    \n",
    "        first_derivative1 = np.gradient(signal1)\n",
    "        first_derivative1 /= first_derivative1.max()\n",
    "        first_derivative2 = np.gradient(signal2)\n",
    "        first_derivative2 /= first_derivative2.max()\n",
    "    \n",
    "        phase1 = np.argmin(first_derivative1)\n",
    "        phase2 = np.argmax(first_derivative2) + MIN\n",
    "    \n",
    "        return phase1, phase2\n",
    "\n",
    "    # function tìm giá trị lệch nhỏ nhất của tín hiệu cho vào sau khi * s ở transit với giá trị của một đa thức bậc nhỏ hơn 4 khớp nhất với tín hiệu\n",
    "    # mục tiêu là minimal q tìm ra giá trị s phù hợp nhất\n",
    "    def objective(self, signal, p1, p2, s):\n",
    "        \n",
    "        best_q = 1e10\n",
    "        n = signal.shape[0]\n",
    "        try:\n",
    "            for i in range(4) :\n",
    "                delta = 2\n",
    "                end_before   = max(p1 - delta, 0) \n",
    "                start_after   = min(p2 + delta, n)\n",
    "                y = signal[:end_before].tolist() + (signal[p1+delta:p2 - delta] * (1 + s)).tolist() + signal[start_after:].tolist()\n",
    "                x = list(range(len(y)))\n",
    "                z = np.polyfit(x, y, deg=i)\n",
    "                p = np.poly1d(z)\n",
    "                q = np.abs(p(x) - y).mean()\n",
    "        \n",
    "            if q < best_q :\n",
    "                best_q = q\n",
    "        \n",
    "            return q\n",
    "        except Exception as e:\n",
    "            print(f\"[ERROR objective()] {signal.shape} p1={p1}, p2={p2} x={len(x)}, y={len(y)}, p1={p1}, p2={p2}, s={s}, err={e}\")\n",
    "            return 1e10\n",
    "\n",
    "    # tìm s bằng Nelder-Mead tự điều chỉnh sao cho q min\n",
    "    def fit_transit_depth(self, signal, phase_signal):\n",
    "        p1, p2 = self.phase_detector(phase_signal)\n",
    "        f = partial(self.objective, signal, p1, p2)\n",
    "        r = minimize(f, [0.0001], method= 'Nelder-Mead')\n",
    "        s = r.x[0]\n",
    "        return s\n",
    "\n",
    "    # tìm giá trị s cho từng bước sóng\n",
    "    def fit_every_wv(self, a_raw, phase_signal):\n",
    "        res = []\n",
    "        for i in range(282):\n",
    "            signal = a_raw[:, i]\n",
    "            res.append(\n",
    "                self.fit_transit_depth(signal, phase_signal)\n",
    "            )\n",
    "        return np.array(res, dtype=np.float32).clip(0)\n",
    "\n",
    "    # làm mượt dữ liệu bằng đa thức bậc 3 và nội suy trong khoảng +- windowsize/2\n",
    "    def smooth_data(self, data, window_size):\n",
    "        return savgol_filter(data, window_size, 3)\n",
    "\n",
    "    # xử lý dữ liệu\n",
    "    def process_data(self, a_raw_data, f_raw_data, type_data = 'train'):\n",
    "\n",
    "        # tổng số dòng\n",
    "        if type_data == 'train':\n",
    "            total_rows = self.config.train_labels.shape[0]\n",
    "        else:\n",
    "            total_rows =len(self.config.sample_test.index)\n",
    "\n",
    "        # làm mượt AIRS\n",
    "        wv_smooth_a_raw = self.smooth_airs(a_raw_data)\n",
    "\n",
    "        # cắt tín hiệu\n",
    "        a_raw_mean = a_raw_data[:, :, self.config.cut_inf:self.config.cut_sup].mean(axis=-1)\n",
    "        a_raw_mean.shape\n",
    "\n",
    "        # tính toán một độ sâu duy nhất của FGS1 (wl dự đoán chỉ có duy nhất 1 bước sóng thuộc FGS1)\n",
    "        with ThreadPoolExecutor(max_workers=self.config.nums_parallel) as exe:\n",
    "            f_depth = list( tqdm(exe.map(self.fit_transit_depth, f_raw_data[:, :, 0], a_raw_mean), total=total_rows) )\n",
    "        f_depth = np.array(f_depth, dtype=np.float32)\n",
    "\n",
    "        # đọc xem đã có file độ sâu của 282 bước sóng chưa\n",
    "        if os.path.exists('/kaggle/input/data03/a_wv_depth.npy') and type_data == 'train': \n",
    "            a_wv_depth = np.load('/kaggle/input/data03/a_wv_depth.npy')\n",
    "        else :\n",
    "            a_wv_depth = Parallel(\n",
    "                n_jobs=self.config.nums_parallel,\n",
    "                backend='loky',\n",
    "                prefer='processes'\n",
    "            )(\n",
    "                delayed(self.fit_every_wv)(ws, m)\n",
    "                for ws, m in tqdm(zip(wv_smooth_a_raw, a_raw_mean),\n",
    "                                   total=total_rows)\n",
    "            )\n",
    "            a_wv_depth = np.vstack(a_wv_depth)\n",
    "            if type_data == 'train':\n",
    "                np.save('/kaggle/working/a_wv_depth.npy', a_wv_depth)\n",
    "\n",
    "\n",
    "        # làm mượt độ sâu với hàm bậc 3 và nội suy\n",
    "        window_size = 103\n",
    "        smoothed = []\n",
    "        for pred in tqdm(a_wv_depth):\n",
    "            smooth_pred = self.smooth_data(pred, window_size=window_size)\n",
    "            smoothed.append(smooth_pred)\n",
    "        smoothed = np.row_stack(smoothed)\n",
    "        smoothed.shape\n",
    "            \n",
    "        a_wv_depth = smoothed\n",
    "\n",
    "        window = 64\n",
    "        tail_a_raw = a_raw_data[:,:, -window:].mean(axis=-1)\n",
    "        with ThreadPoolExecutor(max_workers=self.config.nums_parallel) as exe:\n",
    "            tail_a_depth = list( tqdm(exe.map(self.fit_transit_depth, tail_a_raw, a_raw_mean), total=total_rows) )\n",
    "\n",
    "        tail_a_depth = np.array(tail_a_depth, dtype=np.float32)\n",
    "        merged_f_depth = tail_a_depth * 0.9 + f_depth * 0.1\n",
    "\n",
    "\n",
    "        # chuẩn hóa dữ liệu meta data của các hành tinh\n",
    "        scaler_meta = StandardScaler()\n",
    "            \n",
    "        if type_data == 'train':\n",
    "            meta_features = scaler_meta.fit_transform(self.config.train_info.values)\n",
    "        else:\n",
    "            meta_features = scaler_meta.fit_transform(self.config.test_info.values)\n",
    "\n",
    "        wv_smooth_pred = np.column_stack([\n",
    "            merged_f_depth,\n",
    "            a_wv_depth[:, ::-1]\n",
    "        ])\n",
    "        wv_smooth_pred.shape\n",
    "\n",
    "        # ghép dữ liệu meta data với dữ liệu đô sâu s\n",
    "        X = np.hstack([wv_smooth_pred, meta_features])\n",
    "        return X\n"
   ]
  },
  {
   "cell_type": "markdown",
   "id": "1e8f8816",
   "metadata": {
    "papermill": {
     "duration": 0.003508,
     "end_time": "2025-08-09T00:48:14.902499",
     "exception": false,
     "start_time": "2025-08-09T00:48:14.898991",
     "status": "completed"
    },
    "tags": []
   },
   "source": [
    "# Develop Model"
   ]
  },
  {
   "cell_type": "code",
   "execution_count": 5,
   "id": "b9244db7",
   "metadata": {
    "execution": {
     "iopub.execute_input": "2025-08-09T00:48:14.912601Z",
     "iopub.status.busy": "2025-08-09T00:48:14.912237Z",
     "iopub.status.idle": "2025-08-09T00:48:14.926976Z",
     "shell.execute_reply": "2025-08-09T00:48:14.925892Z"
    },
    "papermill": {
     "duration": 0.022118,
     "end_time": "2025-08-09T00:48:14.928680",
     "exception": false,
     "start_time": "2025-08-09T00:48:14.906562",
     "status": "completed"
    },
    "tags": []
   },
   "outputs": [],
   "source": [
    "# Xây dựng model\n",
    "class DevelopedModel:\n",
    "    def __init__(self,\n",
    "                 mu_model_path=\"/kaggle/input/model01/scikitlearn/default/1/mu_model.pkl\",\n",
    "                 sigma_model_path=\"/kaggle/input/model01/scikitlearn/default/1/sigma_model.pkl\"):\n",
    "\n",
    "        self.mu_model_path = mu_model_path\n",
    "        self.sigma_model_path = sigma_model_path\n",
    "        self.mu_model = None\n",
    "        self.sigma_model = None\n",
    "        self.trained = False\n",
    "\n",
    "        if os.path.exists(self.mu_model_path) and os.path.exists(self.sigma_model_path):\n",
    "            print(\"Loading existing models...\")\n",
    "            self.mu_model = joblib.load(self.mu_model_path)\n",
    "            self.sigma_model = joblib.load(self.sigma_model_path)\n",
    "\n",
    "    # traning model với tập dữ liệu X và đầu ra y với test mặc định là 10%\n",
    "    def fit(self, X, y, train_size=0):\n",
    "        if self.mu_model is not None and self.sigma_model is not None:\n",
    "            print(\"Models already loaded. Skipping training.\")\n",
    "            return\n",
    "\n",
    "        # self.X_train, self.X_test, self.y_train, self.y_test = train_test_split(\n",
    "        #     X, y, train_size=train_size, random_state=42\n",
    "        # )\n",
    "\n",
    "        self.X_train = X\n",
    "        self.y_train = y\n",
    "        self.X_test = None\n",
    "        self.y_test = None\n",
    "\n",
    "        base_model = XGBRegressor(\n",
    "            n_estimators=300,\n",
    "            max_depth=6,\n",
    "            learning_rate=0.05,\n",
    "            n_jobs=-1,\n",
    "            random_state=42\n",
    "        )\n",
    "\n",
    "        print(\"Developing model ...\")\n",
    "\n",
    "        self.mu_model = MultiOutputRegressor(base_model)\n",
    "        mu_oof = cross_val_predict(self.mu_model, self.X_train, self.y_train, cv=5)\n",
    "        sigma_true = np.abs(self.y_train - mu_oof)\n",
    "\n",
    "        self.sigma_model = MultiOutputRegressor(base_model)\n",
    "        \n",
    "        self.mu_model.fit(self.X_train, self.y_train)\n",
    "        self.sigma_model.fit(self.X_train, sigma_true)\n",
    "        #     base_model = SVR(\n",
    "        #         kernel='rbf',\n",
    "        #         C=1.0,\n",
    "        #         epsilon=0.1\n",
    "        #     )\n",
    "\n",
    "        # base_model = Ridge(alpha=1.0)\n",
    "\n",
    "        # base_model = Lasso(alpha=0.1, max_iter=10000)\n",
    "\n",
    "        # Model xử dụng\n",
    "        # base_model = LinearRegression()\n",
    "        \n",
    "        print(\"Saving models to /kaggle/working/ ...\")\n",
    "        joblib.dump(self.mu_model, \"/kaggle/working/mu_model.pkl\")\n",
    "        joblib.dump(self.sigma_model, \"/kaggle/working/sigma_model.pkl\")\n",
    "\n",
    "        self.trained = True\n",
    "\n",
    "    def predict(self, X):\n",
    "        if self.mu_model is None or self.sigma_model is None:\n",
    "            raise RuntimeError(\"Model not trained or loaded.\")\n",
    "        mu_pred = self.mu_model.predict(X)\n",
    "        sigma_pred = self.sigma_model.predict(X)\n",
    "        return mu_pred, sigma_pred\n",
    "\n",
    "    def evaluate(self):\n",
    "        if not self.trained:\n",
    "            print(\"Model was loaded (not trained), skipping evaluation plots.\")\n",
    "            return\n",
    "    \n",
    "        mu_pred, sigma_pred = self.predict(self.X_test)\n",
    "        abs_errors = np.abs(self.y_test - mu_pred)\n",
    "        mse = mean_squared_error(self.y_test, mu_pred)\n",
    "        rmse = np.sqrt(mse)\n",
    "        mae = mean_absolute_error(self.y_test, mu_pred)\n",
    "        r2 = r2_score(self.y_test, mu_pred)\n",
    "        mean_sigma = np.mean(sigma_pred)\n",
    "     \n",
    "        print(f\"MAE: {mae:.4f}\")\n",
    "        print(f\"RMSE: {rmse:.4f}\")\n",
    "        print(f\"R² Score: {r2:.4f}\")\n",
    "        print(f\"Mean predicted sigma (uncertainty): {mean_sigma:.4f}\")\n",
    "    \n",
    "        # Vẽ biểu đồ\n",
    "        plt.figure(figsize=(18, 5))\n",
    "    \n",
    "        plt.subplot(1, 3, 1)\n",
    "        plt.scatter(self.y_test.ravel(), mu_pred.ravel(), alpha=0.3)\n",
    "        plt.xlabel(\"True\")\n",
    "        plt.ylabel(\"Predicted\")\n",
    "        plt.title(\"True vs Predicted\")\n",
    "    \n",
    "        plt.subplot(1, 3, 2)\n",
    "        plt.hist(abs_errors.ravel(), bins=50, color='orange', alpha=0.8)\n",
    "        plt.xlabel(\"Absolute Error\")\n",
    "        plt.title(\"Distribution of Absolute Errors\")\n",
    "        \n",
    "        plt.tight_layout()\n",
    "        plt.show()"
   ]
  },
  {
   "cell_type": "markdown",
   "id": "38ef4be2",
   "metadata": {
    "papermill": {
     "duration": 0.003466,
     "end_time": "2025-08-09T00:48:14.937257",
     "exception": false,
     "start_time": "2025-08-09T00:48:14.933791",
     "status": "completed"
    },
    "tags": []
   },
   "source": [
    "# Create Submission"
   ]
  },
  {
   "cell_type": "code",
   "execution_count": 6,
   "id": "b684006b",
   "metadata": {
    "execution": {
     "iopub.execute_input": "2025-08-09T00:48:14.945855Z",
     "iopub.status.busy": "2025-08-09T00:48:14.945503Z",
     "iopub.status.idle": "2025-08-09T00:48:14.953284Z",
     "shell.execute_reply": "2025-08-09T00:48:14.952028Z"
    },
    "papermill": {
     "duration": 0.014197,
     "end_time": "2025-08-09T00:48:14.955071",
     "exception": false,
     "start_time": "2025-08-09T00:48:14.940874",
     "status": "completed"
    },
    "tags": []
   },
   "outputs": [],
   "source": [
    "# Tạo submission in ra file\n",
    "class SubmissionGenerator:\n",
    "    def __init__(self, model):\n",
    "        self.model = model\n",
    "\n",
    "    def predict(self, X_new):\n",
    "        mu, sigma = self.model.predict(X_new)\n",
    "        return mu, sigma\n",
    "\n",
    "    def save_submission(self, mu, sigma=None, filename=\"submission.csv\", sample_path=\"/kaggle/input/ariel-data-challenge-2025/sample_submission.csv\"):\n",
    "        planet_ids = pd.read_csv(sample_path)[\"planet_id\"].astype(int).tolist()\n",
    "        mu_columns = [f\"wl_{i+1}\" for i in range(283)]\n",
    "        sigma_columns = [f\"sigma_{i+1}\" for i in range(283)]\n",
    "\n",
    "        submission_df = pd.DataFrame(\n",
    "        np.hstack([mu, sigma]),\n",
    "            columns=mu_columns + sigma_columns\n",
    "        )\n",
    "        submission_df.insert(0, \"planet_id\", planet_ids)\n",
    "        submission_df[\"planet_id\"] = submission_df[\"planet_id\"].astype(int)\n",
    "        submission_df.to_csv(filename, index=False, float_format=\"%.5f\")\n",
    "        print(f\"Submission saved to {filename}\")"
   ]
  },
  {
   "cell_type": "markdown",
   "id": "b399044c",
   "metadata": {
    "papermill": {
     "duration": 0.00359,
     "end_time": "2025-08-09T00:48:14.963067",
     "exception": false,
     "start_time": "2025-08-09T00:48:14.959477",
     "status": "completed"
    },
    "tags": []
   },
   "source": [
    "# Run"
   ]
  },
  {
   "cell_type": "code",
   "execution_count": 7,
   "id": "b2d6015a",
   "metadata": {
    "execution": {
     "iopub.execute_input": "2025-08-09T00:48:14.972437Z",
     "iopub.status.busy": "2025-08-09T00:48:14.972018Z",
     "iopub.status.idle": "2025-08-09T00:51:56.828430Z",
     "shell.execute_reply": "2025-08-09T00:51:56.827197Z"
    },
    "papermill": {
     "duration": 221.863617,
     "end_time": "2025-08-09T00:51:56.830420",
     "exception": false,
     "start_time": "2025-08-09T00:48:14.966803",
     "status": "completed"
    },
    "tags": []
   },
   "outputs": [
    {
     "name": "stdout",
     "output_type": "stream",
     "text": [
      "Loading f done\n",
      "Loading a done\n"
     ]
    },
    {
     "name": "stderr",
     "output_type": "stream",
     "text": [
      "100%|██████████| 1/1 [00:06<00:00,  6.78s/it]\n",
      "100%|██████████| 1/1 [00:07<00:00,  7.56s/it]\n",
      "100%|██████████| 1100/1100 [01:30<00:00, 12.18it/s]\n",
      "100%|██████████| 1100/1100 [00:00<00:00, 1758.35it/s]\n",
      "100%|██████████| 1100/1100 [01:40<00:00, 10.97it/s]\n"
     ]
    }
   ],
   "source": [
    "# Load và xử lý dữ liệu\n",
    "config = GlobalVariable()\n",
    "data_processing = DataProcessing(config)\n",
    "\n",
    "a_raw_train = data_processing.a_raw_train\n",
    "f_raw_train = data_processing.f_raw_train\n",
    "\n",
    "X_train = data_processing.process_data(a_raw_train,f_raw_train)\n",
    "y_mu  = config.train_labels.values"
   ]
  },
  {
   "cell_type": "code",
   "execution_count": 8,
   "id": "fa4534dd",
   "metadata": {
    "execution": {
     "iopub.execute_input": "2025-08-09T00:51:57.004068Z",
     "iopub.status.busy": "2025-08-09T00:51:57.003705Z",
     "iopub.status.idle": "2025-08-09T00:52:03.285951Z",
     "shell.execute_reply": "2025-08-09T00:52:03.284682Z"
    },
    "papermill": {
     "duration": 6.335211,
     "end_time": "2025-08-09T00:52:03.288426",
     "exception": false,
     "start_time": "2025-08-09T00:51:56.953215",
     "status": "completed"
    },
    "tags": []
   },
   "outputs": [
    {
     "name": "stdout",
     "output_type": "stream",
     "text": [
      "Loading existing models...\n",
      "Models already loaded. Skipping training.\n"
     ]
    }
   ],
   "source": [
    "# Huấn luyện và lưu model\n",
    "model = DevelopedModel()\n",
    "model.fit(X_train, y_mu)\n",
    "# model.evaluate()"
   ]
  },
  {
   "cell_type": "code",
   "execution_count": 9,
   "id": "53492311",
   "metadata": {
    "execution": {
     "iopub.execute_input": "2025-08-09T00:52:03.399634Z",
     "iopub.status.busy": "2025-08-09T00:52:03.398848Z",
     "iopub.status.idle": "2025-08-09T00:52:16.117734Z",
     "shell.execute_reply": "2025-08-09T00:52:16.116674Z"
    },
    "papermill": {
     "duration": 12.780392,
     "end_time": "2025-08-09T00:52:16.119405",
     "exception": false,
     "start_time": "2025-08-09T00:52:03.339013",
     "status": "completed"
    },
    "tags": []
   },
   "outputs": [
    {
     "name": "stderr",
     "output_type": "stream",
     "text": [
      "100%|██████████| 1/1 [00:00<00:00, 21.40it/s]\n",
      "100%|██████████| 1/1 [00:00<00:00, 88.73it/s]\n",
      "100%|██████████| 1/1 [00:00<00:00, 508.59it/s]\n",
      "100%|██████████| 1/1 [00:00<00:00, 29.94it/s]\n"
     ]
    }
   ],
   "source": [
    "# Load và xử lý dữ liệu test\n",
    "a_raw_test = data_processing.a_raw_test\n",
    "f_raw_test = data_processing.f_raw_test\n",
    "\n",
    "X_test = data_processing.process_data(a_raw_test,f_raw_test,'test')"
   ]
  },
  {
   "cell_type": "code",
   "execution_count": 10,
   "id": "2a87249b",
   "metadata": {
    "execution": {
     "iopub.execute_input": "2025-08-09T00:52:16.220376Z",
     "iopub.status.busy": "2025-08-09T00:52:16.219963Z",
     "iopub.status.idle": "2025-08-09T00:52:16.820353Z",
     "shell.execute_reply": "2025-08-09T00:52:16.819195Z"
    },
    "papermill": {
     "duration": 0.652771,
     "end_time": "2025-08-09T00:52:16.821969",
     "exception": false,
     "start_time": "2025-08-09T00:52:16.169198",
     "status": "completed"
    },
    "tags": []
   },
   "outputs": [
    {
     "name": "stdout",
     "output_type": "stream",
     "text": [
      "Submission saved to submission.csv\n"
     ]
    }
   ],
   "source": [
    "# Load model và tạo file submission\n",
    "submission_gen = SubmissionGenerator(model)\n",
    "mu_pred, sigma_pred = submission_gen.predict(X_test)\n",
    "submission_gen.save_submission(mu_pred, sigma_pred)"
   ]
  }
 ],
 "metadata": {
  "kaggle": {
   "accelerator": "none",
   "dataSources": [
    {
     "databundleVersionId": 13093295,
     "sourceId": 101849,
     "sourceType": "competition"
    },
    {
     "datasetId": 8017121,
     "sourceId": 12687555,
     "sourceType": "datasetVersion"
    },
    {
     "modelId": 408570,
     "modelInstanceId": 389739,
     "sourceId": 489938,
     "sourceType": "modelInstanceVersion"
    }
   ],
   "dockerImageVersionId": 31089,
   "isGpuEnabled": false,
   "isInternetEnabled": false,
   "language": "python",
   "sourceType": "notebook"
  },
  "kernelspec": {
   "display_name": "Python 3",
   "language": "python",
   "name": "python3"
  },
  "language_info": {
   "codemirror_mode": {
    "name": "ipython",
    "version": 3
   },
   "file_extension": ".py",
   "mimetype": "text/x-python",
   "name": "python",
   "nbconvert_exporter": "python",
   "pygments_lexer": "ipython3",
   "version": "3.11.13"
  },
  "papermill": {
   "default_parameters": {},
   "duration": 263.025574,
   "end_time": "2025-08-09T00:52:19.592755",
   "environment_variables": {},
   "exception": null,
   "input_path": "__notebook__.ipynb",
   "output_path": "__notebook__.ipynb",
   "parameters": {},
   "start_time": "2025-08-09T00:47:56.567181",
   "version": "2.6.0"
  }
 },
 "nbformat": 4,
 "nbformat_minor": 5
}
